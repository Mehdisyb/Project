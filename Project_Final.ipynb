{
  "cells": [
    {
      "cell_type": "code",
      "execution_count": null,
      "metadata": {
        "is_executing": true,
        "ExecuteTime": {
          "start_time": "2023-10-26T10:53:53.796919800Z"
        },
        "id": "Ids2JElnWIhL"
      },
      "outputs": [],
      "source": [
        "import numpy as np\n",
        "import pandas as pd\n",
        "import matplotlib.pyplot as plt\n",
        "from matplotlib import colors\n",
        "import plotly.express as px\n",
        "import seaborn as sns\n",
        "from plotly.offline import init_notebook_mode,iplot\n",
        "import folium\n",
        "import geopandas as gpd\n",
        "from folium.plugins import HeatMap\n",
        "import plotly.graph_objs as go\n",
        "import plotly.offline as pyo\n",
        "import sklearn as metrics\n",
        "from sklearn import tree, linear_model\n",
        "from sklearn.linear_model import LinearRegression\n",
        "from sklearn.metrics import r2_score\n",
        "from matplotlib import rcParams\n",
        "import scipy.stats as st\n",
        "from sklearn.metrics import explained_variance_score, median_absolute_error, accuracy_score, confusion_matrix, classification_report, fbeta_score\n",
        "from sklearn.model_selection import KFold, cross_val_score # Model evaluation\n",
        "from sklearn.model_selection import train_test_split\n",
        "from sklearn.preprocessing import LabelEncoder, OneHotEncoder, StandardScaler # Preprocessing\n",
        "from sklearn.linear_model import Lasso, Ridge, ElasticNet, RANSACRegressor, SGDRegressor, HuberRegressor, BayesianRidge # Linear models\n",
        "from sklearn.ensemble import RandomForestRegressor, BaggingRegressor, AdaBoostRegressor, GradientBoostingRegressor, ExtraTreesRegressor  # Ensemble methods\n",
        "from sklearn.svm import SVR, SVC, LinearSVC  # Support Vector Regression\n",
        "from sklearn.tree import DecisionTreeRegressor # Decision Tree Regression\n",
        "from sklearn.neighbors import KNeighborsRegressor\n",
        "from sklearn.pipeline import Pipeline # Streaming pipelines\n",
        "from sklearn.decomposition import KernelPCA, PCA # Dimensionality reduction\n",
        "from sklearn.feature_selection import SelectFromModel # Dimensionality reduction\n",
        "from sklearn.model_selection import learning_curve, validation_curve, GridSearchCV # Model evaluation\n",
        "from sklearn.base import clone # Clone estimator\n",
        "from sklearn.metrics import mean_squared_error as MSE\n",
        "from sklearn.preprocessing import PolynomialFeatures\n",
        "from sklearn.metrics import mean_absolute_error\n",
        "import xgboost as xgb\n",
        "from xgboost import XGBRegressor, plot_importance # XGBoost\n"
      ]
    },
    {
      "cell_type": "code",
      "execution_count": null,
      "metadata": {
        "is_executing": true,
        "id": "MAq_Jt2wWIhP"
      },
      "outputs": [],
      "source": [
        "## Importing the Data\n",
        "\n",
        "data = pd.read_csv('kc_house_data.csv')\n",
        "\n",
        "data.shape"
      ]
    },
    {
      "cell_type": "code",
      "execution_count": null,
      "metadata": {
        "is_executing": true,
        "id": "0ziCBfQWWIhQ"
      },
      "outputs": [],
      "source": [
        "data.head()"
      ]
    },
    {
      "cell_type": "markdown",
      "metadata": {
        "id": "482m99wAWIhR"
      },
      "source": [
        "#Defining the features\n",
        "\n",
        "Definig the features\n",
        "**Id**: the unique number assigned to each house being sold.\n",
        "\n",
        "**Date**: the date when the house was sold out.\n",
        "\n",
        "**Price**:the price of the house.\n",
        "\n",
        "**Bedrooms**:the number of bedrooms in the house.\n",
        "\n",
        "**Bathrooms**:the number of bathrooms in hte hhouse.\n",
        "\n",
        "**Sqft_living**:the Square footage of the apartments interior living space.\n",
        "\n",
        "**Sqft_lot**:the Square footage of the land space.\n",
        "\n",
        "**Floors**:Number of floors.\n",
        "\n",
        "**Waterfront**:A dummy variable for whether the apartment was overlooking the waterfront or not.\n",
        "\n",
        "**View**:An index from 0 to 4 of how good the view of the property was.\n",
        "\n",
        "**Condition**:An index from 1 to 5 on the condition of the apartment.\n",
        "\n",
        "**Grade**:An index from 1 to 13, where 1-3 falls short of building construction and design, 7 has an average level of construction and design, and 11-13 have a high quality level of construction and design.\n",
        "\n",
        "**Sqft_above**: The square footage of the interior housing space that is above ground level.\n",
        "\n",
        "**Sqft_basement**:The square footage of the interior housing space that is\n",
        "below ground level.\n",
        "\n",
        "**Yr_built**:The year the house was initially built\n",
        "\n",
        "**Yr_renovated**:The year of the house's last renovation\n",
        "\n",
        "**Zipcode**:What zipcode area the house is in\n",
        "\n",
        "**Lat**:Lattitude\n",
        "\n",
        "**Long**:Longitude\n",
        "\n",
        "**Sqft_living15**:The square footage of interior housing living space for the nearest 15 neighbors\n",
        "\n",
        "**Sqft_lot15**:The square footage of the land lots of the nearest 15 neighbors"
      ]
    },
    {
      "cell_type": "code",
      "execution_count": null,
      "metadata": {
        "is_executing": true,
        "id": "EKbivGA6WIhU"
      },
      "outputs": [],
      "source": [
        "#Exploring Data"
      ]
    },
    {
      "cell_type": "code",
      "execution_count": null,
      "metadata": {
        "is_executing": true,
        "id": "kxjlXxEQWIhU"
      },
      "outputs": [],
      "source": [
        "#Data inforamtion\n",
        "data.info()"
      ]
    },
    {
      "cell_type": "markdown",
      "metadata": {
        "id": "VG-SXtu3WIhV"
      },
      "source": [
        "We have to change the type of date column.\n",
        "the other columns type are good."
      ]
    },
    {
      "cell_type": "code",
      "execution_count": null,
      "metadata": {
        "is_executing": true,
        "id": "iHVltFNZWIhV"
      },
      "outputs": [],
      "source": [
        "data.info()"
      ]
    },
    {
      "cell_type": "markdown",
      "metadata": {
        "id": "8-UPPDKZWIhV"
      },
      "source": [
        "The date type is good now !"
      ]
    },
    {
      "cell_type": "code",
      "execution_count": null,
      "metadata": {
        "is_executing": true,
        "id": "Yb9cKJV_WIhW"
      },
      "outputs": [],
      "source": [
        "data.isnull().sum()"
      ]
    },
    {
      "cell_type": "markdown",
      "metadata": {
        "id": "RwQ1LeMsWIhW"
      },
      "source": [
        "No null values in the Data"
      ]
    },
    {
      "cell_type": "code",
      "execution_count": null,
      "metadata": {
        "is_executing": true,
        "id": "YXciDeGJWIhX"
      },
      "outputs": [],
      "source": [
        "data.describe()"
      ]
    },
    {
      "cell_type": "code",
      "execution_count": null,
      "metadata": {
        "is_executing": true,
        "id": "53lNoMnVWIhX"
      },
      "outputs": [],
      "source": [
        "data[data[\"bedrooms\"]==33]"
      ]
    },
    {
      "cell_type": "markdown",
      "metadata": {
        "id": "Dxk87YsqWIhY"
      },
      "source": [
        "We found an outlier, it's bizzare that a house have 33 bedrooms with 1.75 bathrooms in surface with 1620 sqft for living so we have 2 choices:\n",
        "\n",
        "First one we change the number of bedrooms to the median of the number of all the bedrooms in the data.\n",
        "\n",
        "The second choices is remove this row."
      ]
    },
    {
      "cell_type": "code",
      "execution_count": null,
      "metadata": {
        "is_executing": true,
        "id": "HF7B2ua8WIhY"
      },
      "outputs": [],
      "source": [
        "#Now we have changed the number of bedrooms in the row 15870\t with the mean of bedrooms\n",
        "data.loc[data['bedrooms']==33, 'bedrooms']= data['bedrooms'].mean()"
      ]
    },
    {
      "cell_type": "code",
      "execution_count": null,
      "metadata": {
        "is_executing": true,
        "id": "UeQcLJvQWIhY"
      },
      "outputs": [],
      "source": [
        "#we have to search if there is duplicated rows or not, and we look at it to decide what we will do with it"
      ]
    },
    {
      "cell_type": "code",
      "execution_count": null,
      "metadata": {
        "is_executing": true,
        "id": "nezEDM1OWIhZ"
      },
      "outputs": [],
      "source": [
        "#Duplicated data\n",
        "data_1=data[data.duplicated(subset= 'id')]\n",
        "\n",
        "data_1"
      ]
    },
    {
      "cell_type": "code",
      "execution_count": null,
      "metadata": {
        "is_executing": true,
        "id": "0GFuPy28WIhZ"
      },
      "outputs": [],
      "source": [
        "data"
      ]
    },
    {
      "cell_type": "code",
      "execution_count": null,
      "metadata": {
        "is_executing": true,
        "id": "I3nmMBH8WIhZ"
      },
      "outputs": [],
      "source": [
        "data.to_csv(\"data1\")"
      ]
    },
    {
      "cell_type": "code",
      "execution_count": null,
      "metadata": {
        "id": "Zp5wbrxSFEfi",
        "is_executing": true
      },
      "outputs": [],
      "source": [
        "data1=pd.read_csv(\"data1\")"
      ]
    },
    {
      "cell_type": "markdown",
      "metadata": {
        "id": "DRK67Crj0rMI"
      },
      "source": [
        "##Data Visualization"
      ]
    },
    {
      "cell_type": "markdown",
      "metadata": {
        "id": "DJWt4RsT0z6s"
      },
      "source": [
        "We have to search of hiden outliers and for find them and fixe them if we can\n",
        "we must create the boxplot !"
      ]
    },
    {
      "cell_type": "code",
      "execution_count": null,
      "metadata": {
        "id": "RLx0g2El0uaF",
        "is_executing": true
      },
      "outputs": [],
      "source": [
        "data1.plot(kind = 'box', subplots= True , layout = (8,3), figsize = (20,20))\n",
        "plt.show()"
      ]
    },
    {
      "cell_type": "markdown",
      "metadata": {
        "id": "tfTIvNul05hR"
      },
      "source": [
        "We have to delete some columns and change some data.\n",
        "\n",
        "Delete : waterfront / view / lat / long/ zipcode /yr_build / yr_renovated; but we will not delete all of them now, because we need some of them for the analysis.\n",
        "\n",
        "Change the max of bedrooms with the mean of the bedrooms column.\n",
        "\n",
        "Delete some outliers of columns like : sqft_lot / sqft_lot15 / sqft_living_15 / sqft_above"
      ]
    },
    {
      "cell_type": "markdown",
      "metadata": {
        "id": "vYuTimf91JGK"
      },
      "source": [
        "here, we have made a function for helping us to remove the oputliers and make some changes in some columns."
      ]
    },
    {
      "cell_type": "code",
      "execution_count": null,
      "metadata": {
        "id": "dbb-MBEY1LmJ",
        "is_executing": true
      },
      "outputs": [],
      "source": [
        "def remove_outlier (house_df, column):\n",
        "  q1= data1[column].quantile(0.25)\n",
        "  q2= data1[column].quantile(0.75)\n",
        "\n",
        "  iqr = q2-q1\n",
        "  lower=q1 - 1.5*iqr\n",
        "  upper=q2 - 1.5*iqr\n",
        "\n",
        "  no_outlier= data1[(data1[column] >= lower) & (data1[column]<= upper)]\n",
        "  return no_outlier"
      ]
    },
    {
      "cell_type": "code",
      "execution_count": null,
      "metadata": {
        "id": "EvV-q0-21L6I",
        "is_executing": true
      },
      "outputs": [],
      "source": [
        "lot = remove_outlier(data1, 'sqft_lot')"
      ]
    },
    {
      "cell_type": "code",
      "execution_count": null,
      "metadata": {
        "id": "r03To3ip1PBB",
        "is_executing": true
      },
      "outputs": [],
      "source": [
        "lot = remove_outlier(data1, 'sqft_lot15')"
      ]
    },
    {
      "cell_type": "code",
      "execution_count": null,
      "metadata": {
        "id": "lg5nWijt1PMI",
        "is_executing": true
      },
      "outputs": [],
      "source": [
        "lot = remove_outlier(data1, 'sqft_living15')"
      ]
    },
    {
      "cell_type": "code",
      "execution_count": null,
      "metadata": {
        "id": "AkxtplLr1PU4",
        "is_executing": true
      },
      "outputs": [],
      "source": [
        "lot = remove_outlier(data1, 'sqft_above')"
      ]
    },
    {
      "cell_type": "markdown",
      "metadata": {
        "id": "i-ExVOlR1Yzt"
      },
      "source": [
        "We will use the boxplot again, looking if is there other outliers we didn't recognised in the first one"
      ]
    },
    {
      "cell_type": "code",
      "execution_count": null,
      "metadata": {
        "id": "f-1E1XlJ1Pfg",
        "is_executing": true
      },
      "outputs": [],
      "source": [
        "lot.plot(kind = 'box', subplots= True , layout = (8,3), figsize = (20,20))\n",
        "plt.show()"
      ]
    },
    {
      "cell_type": "markdown",
      "metadata": {
        "id": "SX8EE0tU1esp"
      },
      "source": [
        "in this boxplot we can see that the outliers still there, We can used it in our visualization analysis."
      ]
    },
    {
      "cell_type": "markdown",
      "metadata": {
        "id": "6u2tdOvV1hkx"
      },
      "source": [
        "#The visualization part with all the data"
      ]
    },
    {
      "cell_type": "code",
      "execution_count": null,
      "metadata": {
        "id": "cyh1UM__1Ls9",
        "is_executing": true
      },
      "outputs": [],
      "source": [
        "#This is the geographic place for the houses.\n",
        "m = folium.Map(location=[data1['lat'].mean(), data1['long'].mean()], zoom_start=10)\n",
        "m"
      ]
    },
    {
      "cell_type": "code",
      "execution_count": null,
      "metadata": {
        "id": "bkW1ObYV1kJk",
        "is_executing": true
      },
      "outputs": [],
      "source": [
        "#This is the heat map in the geographic map for the houses\n",
        "heat_data = [[row['lat'],row['long']] for index, row in data1.iterrows()]\n",
        "HeatMap(heat_data).add_to(m)\n",
        "HeatMap(heat_data)\n",
        "m"
      ]
    },
    {
      "cell_type": "markdown",
      "metadata": {
        "id": "4w1sO4ah1rzW"
      },
      "source": [
        "This geogrphic heat map show us the location of the houses and where the most of houses in our dataset locate!"
      ]
    },
    {
      "cell_type": "code",
      "execution_count": null,
      "metadata": {
        "id": "TqhlGcWoFvs1",
        "is_executing": true
      },
      "outputs": [],
      "source": [
        "#we have to search if there is duplicated rows or not, and we look at it to decide what we will do with it"
      ]
    },
    {
      "cell_type": "code",
      "execution_count": null,
      "metadata": {
        "id": "BH6k6wXAFx-J",
        "is_executing": true
      },
      "outputs": [],
      "source": [
        "#Duplicated data\n",
        "data_1=data1[data1.duplicated(subset= 'id')]\n",
        "data_1"
      ]
    },
    {
      "cell_type": "code",
      "execution_count": null,
      "metadata": {
        "id": "CUaV9Feq1kTD",
        "is_executing": true
      },
      "outputs": [],
      "source": [
        "#This is the geo map fot the houses in data_1\n",
        "m1 = folium.Map(location=[data_1['lat'].mean(), data_1['long'].mean()], zoom_start=10)\n",
        "m1\n",
        "#This is the heat map in the geographic map for the houses\n",
        "heat_data = [[row['lat'],row['long']] for index, row in data_1.iterrows()]\n",
        "HeatMap(heat_data).add_to(m1)\n",
        "HeatMap(heat_data)\n",
        "m1"
      ]
    },
    {
      "cell_type": "markdown",
      "metadata": {
        "id": "DXKIQGYR1ydF"
      },
      "source": [
        "This chart show us the place of the houses that have a commun id owner!"
      ]
    },
    {
      "cell_type": "code",
      "execution_count": null,
      "metadata": {
        "id": "TOaz6HVz1kd6",
        "is_executing": true
      },
      "outputs": [],
      "source": [
        "#this data is for the houses that has been renovated\n",
        "Cols=['id','yr_renovated','lat','long']\n",
        "\n",
        "data_2=data1[Cols]\n",
        "\n",
        "data_2 = data_2[data_2['yr_renovated'] != 0]\n",
        "\n",
        "data_2 = data_2.reset_index(drop=True)\n",
        "\n",
        "data_2\n"
      ]
    },
    {
      "cell_type": "code",
      "execution_count": null,
      "metadata": {
        "id": "d33E0KW01kmZ",
        "is_executing": true
      },
      "outputs": [],
      "source": [
        "m2 = folium.Map(location=[data_2['lat'].mean(), data_2['long'].mean()], zoom_start=10)\n",
        "m2\n",
        "#This is the heat map in the geographic map for the houses\n",
        "heat_data = [[row['lat'],row['long']] for index, row in data_2.iterrows()]\n",
        "HeatMap(heat_data).add_to(m2)\n",
        "HeatMap(heat_data)\n",
        "m2"
      ]
    },
    {
      "cell_type": "code",
      "execution_count": null,
      "metadata": {
        "id": "69X9hcs-1kvn",
        "is_executing": true
      },
      "outputs": [],
      "source": [
        "#We will remove the 'id' columns but first we have to remove the duplicated id rows\n",
        "data_1=data_1.drop(['id'],axis=1)\n",
        "data1=data1.drop(['id'],axis=1)"
      ]
    },
    {
      "cell_type": "markdown",
      "metadata": {
        "id": "x6wW4RBy18BL"
      },
      "source": [
        "This chart show us the houses that has been renovated"
      ]
    },
    {
      "cell_type": "code",
      "execution_count": null,
      "metadata": {
        "id": "3tzF2p7D1k6N",
        "is_executing": true
      },
      "outputs": [],
      "source": [
        "plt.figure(figsize=(15,10))\n",
        "vmin = np.min(data1.price)\n",
        "vmax = np.max(data1.price)\n",
        "norm = colors.LogNorm(vmin*2,vmax/3)\n",
        "plt.scatter(data1.long,data1.lat, marker='*',c=data1.price,norm=norm,cmap='jet')\n",
        "plt.xlabel('Longitude')\n",
        "plt.ylabel('Latituede')\n",
        "plt.title('House Price by Geography')\n",
        "clb = plt.colorbar()\n",
        "clb.ax.set_title('Price')"
      ]
    },
    {
      "cell_type": "code",
      "execution_count": null,
      "metadata": {
        "id": "c4bItU9M2H1x",
        "is_executing": true
      },
      "outputs": [],
      "source": [
        "plt.figure(figsize=(8,8))\n",
        "plt.hist(data1.price,bins=100,color='b')\n",
        "plt.title('Histogram of House Price')\n",
        "plt.show()"
      ]
    },
    {
      "cell_type": "code",
      "execution_count": null,
      "metadata": {
        "id": "xspFba1O2IAT",
        "is_executing": true
      },
      "outputs": [],
      "source": [
        "hist_yr_b = [go.Histogram(x=data1.yr_built,xbins=dict(start=np.min(data1.yr_built),size=1,end=np.max(data1.yr_built)),marker=dict(color='rgb(0,102,0)'))]\n",
        "\n",
        "histlayout2 = go.Layout(title=\"Built Year Counts\",xaxis=dict(title=\"Years\"),yaxis=dict(title=\"Built Counts\"))\n",
        "\n",
        "histfig2 = go.Figure(data=hist_yr_b,layout=histlayout2)\n",
        "\n",
        "iplot(hist_yr_b)"
      ]
    },
    {
      "cell_type": "code",
      "execution_count": null,
      "metadata": {
        "id": "leqPDrdD22ra",
        "is_executing": true
      },
      "outputs": [],
      "source": [
        "hist_yr_rn = [go.Histogram(x=data1.yr_renovated,xbins=dict(start=np.min(data1.yr_renovated),size=1,end=np.max(data1.yr_renovated)),marker=dict(color='rgb(0,102,0)'))]\n",
        "\n",
        "histlayout3 = go.Layout(title=\"renovate Year Counts\",xaxis=dict(title=\"Years\"),yaxis=dict(title=\"renovate Counts\"))\n",
        "\n",
        "histfig3 = go.Figure(data=hist_yr_rn,layout=histlayout3)\n",
        "\n",
        "iplot(hist_yr_rn)"
      ]
    },
    {
      "cell_type": "code",
      "execution_count": null,
      "metadata": {
        "id": "p4yzQEMM22yQ",
        "is_executing": true
      },
      "outputs": [],
      "source": [
        "#Create Grade Frame\n",
        "gradeframe = pd.DataFrame({\"Grades\":data1.grade.value_counts().index,\"House_Grade\":data1.grade.value_counts().values})\n",
        "gradeframe[\"Grades\"] = gradeframe[\"Grades\"].apply(lambda x : \"Grade \" + str(x))\n",
        "gradeframe.set_index(\"Grades\",inplace=True)\n",
        "gradeframe"
      ]
    },
    {
      "cell_type": "code",
      "execution_count": null,
      "metadata": {
        "id": "YfpDvzTL226O",
        "is_executing": true
      },
      "outputs": [],
      "source": [
        "p1 = [go.Pie(labels = gradeframe.index,values = gradeframe.House_Grade,hoverinfo=\"percent+label+value\",hole=0.1,marker=dict(line=dict(color=\"#000000\",width=2)))]\n",
        "\n",
        "layout4 = go.Layout(title=\"Grade Pie Chart\")\n",
        "\n",
        "fig4 = go.Figure(data=p1,layout=layout4)\n",
        "\n",
        "iplot(fig4)"
      ]
    },
    {
      "cell_type": "code",
      "execution_count": null,
      "metadata": {
        "id": "5NNCVT5b23Bf",
        "is_executing": true
      },
      "outputs": [],
      "source": [
        "hist_grade = [go.Histogram(x=data1.grade,marker=dict(color='rgb(102, 0, 102)'))]\n",
        "\n",
        "histlayout1 = go.Layout(title=\"Grade Counts\",xaxis=dict(title=\"Grades\"),yaxis=dict(title=\"Counts\"))\n",
        "\n",
        "histfig1 = go.Figure(data=hist_grade,layout=histlayout1)\n",
        "\n",
        "iplot(hist_grade)"
      ]
    },
    {
      "cell_type": "code",
      "execution_count": null,
      "metadata": {
        "id": "dBGgnH2R23Iu",
        "is_executing": true
      },
      "outputs": [],
      "source": [
        "fig_his_1 = px.histogram(data1,x='sqft_living',nbins=15)\n",
        "fig_his_1"
      ]
    },
    {
      "cell_type": "markdown",
      "metadata": {
        "id": "9w5beaKr3Zjz"
      },
      "source": [
        "in this scatter plot we can see much things and we can make some search on it for example we can search on two things:\n",
        "\n",
        "First one the data point where the sqft_lot is little more than 1.6M while the price is 700K (probably a farm with a very little house ).\n",
        "\n",
        "Second one is when the price is the max while the sqft_lot is 27.6K sqft ( probably the house is in luxury place )"
      ]
    },
    {
      "cell_type": "code",
      "execution_count": null,
      "metadata": {
        "id": "dvIu-X4_23YG",
        "is_executing": true
      },
      "outputs": [],
      "source": [
        "trace2 = px.scatter(data1,x='sqft_living',y='price')\n",
        "trace2"
      ]
    },
    {
      "cell_type": "markdown",
      "metadata": {
        "id": "hYrK6buqWIhk"
      },
      "source": [
        "We have to change the data type"
      ]
    },
    {
      "cell_type": "code",
      "execution_count": null,
      "metadata": {
        "is_executing": true,
        "id": "vjlCvy4mWIhk"
      },
      "outputs": [],
      "source": [
        "data1['date']= pd.to_datetime(data1['date'])"
      ]
    },
    {
      "cell_type": "code",
      "execution_count": null,
      "metadata": {
        "id": "nxYDugmQ3Vzn",
        "is_executing": true
      },
      "outputs": [],
      "source": [
        "plt.figure(figsize=(20,7))\n",
        "sns.heatmap(data1.corr() , annot = True, cmap = \"Blues\")"
      ]
    },
    {
      "cell_type": "code",
      "execution_count": null,
      "metadata": {
        "id": "H3Y-Y3sn3WDi",
        "is_executing": true
      },
      "outputs": [],
      "source": [
        "# Create a 3D scatterplot"
      ]
    },
    {
      "cell_type": "code",
      "execution_count": null,
      "metadata": {
        "id": "xTltgTno3WMJ",
        "is_executing": true
      },
      "outputs": [],
      "source": [
        "fig = plt.figure(figsize=(12, 8))\n",
        "ax = fig.add_subplot(111, projection='3d')\n",
        "scatter = ax.scatter(data1['sqft_living'], data1['price'], data1['condition'], c=data1['condition'], cmap='viridis')\n",
        "ax.set_xlabel('Sqft Living')\n",
        "ax.set_ylabel('Price')\n",
        "ax.set_zlabel('Condition')\n",
        "\n",
        "# Add a color bar to the right of the plot\n",
        "colorbar = plt.colorbar(scatter)\n",
        "colorbar.set_label('Condition')\n",
        "\n",
        "plt.show()"
      ]
    },
    {
      "cell_type": "code",
      "execution_count": null,
      "metadata": {
        "id": "PZ1oPvjd2IJi",
        "is_executing": true
      },
      "outputs": [],
      "source": [
        "fig = plt.figure(figsize=(12, 8))\n",
        "ax = fig.add_subplot(111, projection='3d')\n",
        "scatter = ax.scatter(data1['sqft_living'], data1['price'], data1['floors'], c=data1['floors'], cmap='viridis')\n",
        "ax.set_xlabel('Sqft Living')\n",
        "ax.set_ylabel('Price')\n",
        "ax.set_zlabel('Floors')\n",
        "\n",
        "# Add a color bar to the right of the plot\n",
        "colorbar = plt.colorbar(scatter)\n",
        "colorbar.set_label('floors')\n",
        "\n",
        "plt.show()"
      ]
    },
    {
      "cell_type": "code",
      "execution_count": null,
      "metadata": {
        "id": "HRCKkGcM2IRd",
        "is_executing": true
      },
      "outputs": [],
      "source": [
        "fig = plt.figure(figsize=(12, 8))\n",
        "ax = fig.add_subplot(111, projection='3d')\n",
        "scatter = ax.scatter(data1['sqft_living'], data1['price'], data1['grade'], c=data1['grade'], cmap='viridis')\n",
        "ax.set_xlabel('Sqft Living')\n",
        "ax.set_ylabel('Price')\n",
        "ax.set_zlabel('Grade')\n",
        "\n",
        "# Add a color bar to the right of the plot\n",
        "colorbar = plt.colorbar(scatter)\n",
        "colorbar.set_label('grade')\n",
        "\n",
        "plt.show()"
      ]
    },
    {
      "cell_type": "code",
      "execution_count": null,
      "metadata": {
        "id": "4hsCEePZ2IZo",
        "is_executing": true
      },
      "outputs": [],
      "source": [
        "bedrooms = data1.bedrooms.value_counts()\n",
        "\n",
        "\n",
        "plt.figure(figsize = (12,8))\n",
        "plt.subplots_adjust(hspace = 0.4, top = 0.8)\n",
        "\n",
        "\n",
        "ax1 = plt.subplot(221)\n",
        "ax1 = sns.countplot(x=\"bedrooms\", data=data1,\n",
        "                    ax=ax1)\n",
        "ax1.set_title(\"bedrooms counting\", fontsize=15)\n",
        "ax1.set_xlabel(\"Bathrooms number\")\n",
        "ax1.set_ylabel(\"count\")\n",
        "\n",
        "ax2 = plt.subplot(222)\n",
        "ax2 = sns.regplot(x=\"bedrooms\", y='price',\n",
        "                  data=data1, ax=ax2, x_jitter=True)\n",
        "ax2.set_title(\"Bedrooms distribution price\", fontsize=15)\n",
        "ax2.set_xlabel(\"Bedrooms number\")\n",
        "ax2.set_ylabel(\"Price(US)\")\n",
        "\n",
        "ax0 = plt.subplot(212)\n",
        "ax0 = sns.stripplot(x=\"bedrooms\", y=\"price\",\n",
        "                    data=data1)\n",
        "ax0.set_title(\"Better understaning price\", fontsize=15)\n",
        "ax0.set_xlabel(\"Bedrooms\")\n",
        "ax0.set_ylabel(\"Price(US)\")\n",
        "\n",
        "plt.show()"
      ]
    },
    {
      "cell_type": "code",
      "execution_count": null,
      "metadata": {
        "id": "IEFK8gTe315U",
        "is_executing": true
      },
      "outputs": [],
      "source": [
        "data1[\"bathrooms\"] = data1['bathrooms'].round(0).astype(int)\n",
        "\n",
        "print(\"Freuency bathroom description:\")\n",
        "print(data1[\"bathrooms\"].value_counts())\n",
        "\n",
        "plt.figure(figsize = (12,8))\n",
        "plt.subplots_adjust(hspace = 0.4, top = 0.8)\n",
        "\n",
        "ax1 = plt.subplot(221)\n",
        "ax1 = sns.countplot(x=\"bathrooms\", data=data1,\n",
        "                    ax=ax1)\n",
        "ax1.set_xticklabels(ax1.get_xticklabels(),rotation=90)\n",
        "ax1.set_title(\"Bathrooms counting\", fontsize=15)\n",
        "ax1.set_xlabel(\"Bathrooms number\")\n",
        "ax1.set_xlabel(\"count\")\n",
        "\n",
        "ax2 = plt.subplot(222)\n",
        "ax2 = sns.boxplot(x=\"bathrooms\", y='price',\n",
        "                  data=data1, ax=ax2)\n",
        "ax2.set_xticklabels(ax2.get_xticklabels(),rotation=90)\n",
        "ax2.set_title(\"Bathrooms distribution price\", fontsize=15)\n",
        "ax2.set_xlabel(\"Bathrooms number\")\n",
        "ax2.set_ylabel(\"Price(US)\")\n",
        "\n",
        "ax0 = plt.subplot(212)\n",
        "ax0 = sns.stripplot(x=\"bathrooms\", y=\"price\",\n",
        "                    data=data1 , alpha=0.5,\n",
        "                    jitter=True, hue=\"condition\")\n",
        "ax0.set_title(\"Better view distribuition through price\", fontsize=15)\n",
        "ax0.set_xlabel(\"Bathroom number\")\n",
        "ax0.set_ylabel(\"Price(US)\")\n",
        "ax0.set_xticklabels(ax0.get_xticklabels(),rotation=90)\n",
        "\n",
        "plt.show()"
      ]
    },
    {
      "cell_type": "code",
      "execution_count": null,
      "metadata": {
        "id": "snv2q9vE32GN",
        "is_executing": true
      },
      "outputs": [],
      "source": [
        "condition = data1['condition'].value_counts()\n",
        "\n",
        "print(\"Condition counting: \")\n",
        "print(condition)\n",
        "\n",
        "fig, ax = plt.subplots(ncols=2, figsize=(14,5))\n",
        "sns.countplot(x='condition', data=data1, ax=ax[0])\n",
        "sns.boxplot(x='condition', y= 'price',\n",
        "            data=data1, ax=ax[1])\n",
        "plt.show()"
      ]
    },
    {
      "cell_type": "code",
      "execution_count": null,
      "metadata": {
        "id": "aH7R8Yqz32QS",
        "is_executing": true
      },
      "outputs": [],
      "source": [
        "data1"
      ]
    },
    {
      "cell_type": "code",
      "execution_count": null,
      "metadata": {
        "id": "9G6x3IEmHRSq",
        "is_executing": true
      },
      "outputs": [],
      "source": [
        "data1.to_csv(\"data2\")"
      ]
    },
    {
      "cell_type": "code",
      "execution_count": null,
      "metadata": {
        "is_executing": true,
        "id": "yqyl24S4WIho"
      },
      "outputs": [],
      "source": [
        "data2=pd.read_csv(\"data1\")"
      ]
    },
    {
      "cell_type": "code",
      "execution_count": null,
      "metadata": {
        "is_executing": true,
        "id": "op8WWrIlWIho"
      },
      "outputs": [],
      "source": [
        "data=data2"
      ]
    },
    {
      "cell_type": "code",
      "source": [
        "data['date']= pd.to_datetime(data['date'])\n"
      ],
      "metadata": {
        "id": "a7fhSFPaYPmt"
      },
      "execution_count": null,
      "outputs": []
    },
    {
      "cell_type": "code",
      "source": [
        "data['year'] = data['date'].dt.year\n",
        "data['month'] = data['date'].dt.month\n",
        "data['day'] = data['date'].dt.day\n",
        "\n",
        "data = data.drop(\"date\",axis=1)"
      ],
      "metadata": {
        "id": "ZhzjDqXsYKoo"
      },
      "execution_count": null,
      "outputs": []
    },
    {
      "cell_type": "markdown",
      "metadata": {
        "id": "Iib0iw_MWIhp"
      },
      "source": [
        "##Machine Learning Part"
      ]
    },
    {
      "cell_type": "code",
      "execution_count": null,
      "metadata": {
        "is_executing": true,
        "id": "lg1U9MHeWIhp"
      },
      "outputs": [],
      "source": [
        "#XGBoots Model"
      ]
    },
    {
      "cell_type": "code",
      "execution_count": null,
      "metadata": {
        "is_executing": true,
        "id": "QUU8V-OgWIhp"
      },
      "outputs": [],
      "source": [
        "X = data.drop(\"price\",axis=1).values\n",
        "y = data[\"price\"].values"
      ]
    },
    {
      "cell_type": "code",
      "execution_count": null,
      "metadata": {
        "is_executing": true,
        "id": "3xc4gw4NWIhq"
      },
      "outputs": [],
      "source": [
        "X_train, X_test, y_train, y_test = train_test_split(X, y, test_size = 0.20, random_state=3)"
      ]
    },
    {
      "cell_type": "code",
      "execution_count": null,
      "metadata": {
        "is_executing": true,
        "id": "pFexLHtkWIhq"
      },
      "outputs": [],
      "source": [
        "thresh = 5 * 10**(-3)\n",
        "model = XGBRegressor()\n",
        "model.fit(X_train, y_train)\n",
        "#select features using threshold\n",
        "selection = SelectFromModel(model, threshold=thresh, prefit=True)\n",
        "select_X_train = selection.transform(X_train)\n",
        "# eval model\n",
        "select_X_val = selection.transform(X_test)\n",
        "# test\n",
        "select_X_test = selection.transform(X_test)"
      ]
    },
    {
      "cell_type": "code",
      "execution_count": null,
      "metadata": {
        "is_executing": true,
        "id": "wnP_2577WIhq"
      },
      "outputs": [],
      "source": [
        "xgb = XGBRegressor(n_estimators=100, learning_rate=0.08, gamma=0, subsample=0.75, colsample_bytree=1, max_depth=7)"
      ]
    },
    {
      "cell_type": "code",
      "execution_count": null,
      "metadata": {
        "is_executing": true,
        "id": "vBZNVrYnWIhr"
      },
      "outputs": [],
      "source": [
        "xgb.fit(X_train, y_train)"
      ]
    },
    {
      "cell_type": "code",
      "execution_count": null,
      "metadata": {
        "is_executing": true,
        "id": "HEvUGcn3WIhr"
      },
      "outputs": [],
      "source": [
        "y_hat = xgb.predict(X_test)"
      ]
    },
    {
      "cell_type": "code",
      "execution_count": null,
      "metadata": {
        "is_executing": true,
        "id": "xciAiDEmWIhr"
      },
      "outputs": [],
      "source": [
        "xgb.score(X_test,y_test)"
      ]
    },
    {
      "cell_type": "code",
      "execution_count": null,
      "metadata": {
        "is_executing": true,
        "id": "iABIWM3-WIhr"
      },
      "outputs": [],
      "source": [
        "predictions = xgb.predict(X_test)\n",
        "print(explained_variance_score(predictions,y_test))"
      ]
    },
    {
      "cell_type": "code",
      "execution_count": null,
      "metadata": {
        "is_executing": true,
        "id": "pvkRJh8OWIhs"
      },
      "outputs": [],
      "source": [
        "#Linearr Regression Model"
      ]
    },
    {
      "cell_type": "code",
      "execution_count": null,
      "metadata": {
        "is_executing": true,
        "id": "sLuEg0n2WIhs"
      },
      "outputs": [],
      "source": [
        "regr = linear_model.LinearRegression()\n",
        "new_data = data[['sqft_living','grade', 'sqft_above', 'sqft_living15','bathrooms','view','sqft_basement','lat','waterfront','yr_built','bedrooms']]"
      ]
    },
    {
      "cell_type": "code",
      "execution_count": null,
      "metadata": {
        "is_executing": true,
        "id": "ltcaDjN6WIhs"
      },
      "outputs": [],
      "source": [
        "X = data.drop(\"price\",axis=1).values\n",
        "y = data[\"price\"].values"
      ]
    },
    {
      "cell_type": "code",
      "execution_count": null,
      "metadata": {
        "is_executing": true,
        "id": "nD2q_Al-WIht"
      },
      "outputs": [],
      "source": [
        "X_train,X_test,y_train,y_test = train_test_split(X,y,test_size=0.25, random_state=1)"
      ]
    },
    {
      "cell_type": "code",
      "execution_count": null,
      "metadata": {
        "is_executing": true,
        "id": "N-ClOf71WIht"
      },
      "outputs": [],
      "source": [
        "from sklearn.preprocessing import StandardScaler\n",
        "scaler = StandardScaler()\n",
        "X_train_scaler = scaler.fit_transform(X_train)\n",
        "X_test_scaler = scaler.fit_transform(X_test)"
      ]
    },
    {
      "cell_type": "code",
      "execution_count": null,
      "metadata": {
        "is_executing": true,
        "id": "eRCpaXB9WIht"
      },
      "outputs": [],
      "source": [
        "lin = LinearRegression()"
      ]
    },
    {
      "cell_type": "code",
      "execution_count": null,
      "metadata": {
        "is_executing": true,
        "id": "02JYzssJWIhu"
      },
      "outputs": [],
      "source": [
        "poly = PolynomialFeatures(degree=3)\n",
        "X_poly_train = poly.fit_transform(X_train_scaler)\n",
        "X_test_poly = poly.fit_transform(X_test_scaler)\n",
        "poly.fit(X_poly_train, y_train)\n",
        "lin.fit(X_poly_train, y_train)"
      ]
    },
    {
      "cell_type": "code",
      "execution_count": null,
      "metadata": {
        "is_executing": true,
        "id": "T_0rUr8PWIhu"
      },
      "outputs": [],
      "source": [
        "y_pred = lin.predict(X_test_poly)\n",
        "y_pred"
      ]
    },
    {
      "cell_type": "code",
      "execution_count": null,
      "metadata": {
        "is_executing": true,
        "id": "rdh6BwhrWIhu"
      },
      "outputs": [],
      "source": [
        "mean_absolute_error(y_test, y_pred)"
      ]
    },
    {
      "cell_type": "code",
      "execution_count": null,
      "metadata": {
        "is_executing": true,
        "id": "L4uhcaX3WIhv"
      },
      "outputs": [],
      "source": [
        "mean_absolute_error,\n",
        "y_pred_train = lin.predict(X_poly_train)\n",
        "mean_absolute_error(y_train, y_pred_train)"
      ]
    },
    {
      "cell_type": "code",
      "execution_count": null,
      "metadata": {
        "is_executing": true,
        "id": "2uB4x-jeWIhv"
      },
      "outputs": [],
      "source": [
        "poly = PolynomialFeatures(degree=3)\n",
        "X_poly_train = poly.fit_transform(X_train_scaler)\n",
        "X_test_poly = poly.transform(X_test_scaler)\n",
        "poly.fit(X_poly_train, y_train)"
      ]
    },
    {
      "cell_type": "code",
      "execution_count": null,
      "metadata": {
        "is_executing": true,
        "id": "jSbhtlloWIhv"
      },
      "outputs": [],
      "source": [
        "regr.fit(X_train, y_train)\n",
        "print(regr.predict(X_test))"
      ]
    },
    {
      "cell_type": "code",
      "execution_count": null,
      "metadata": {
        "is_executing": true,
        "id": "_JbjQq_2WIhw"
      },
      "outputs": [],
      "source": [
        "regr.score(X_test,y_test)"
      ]
    },
    {
      "cell_type": "code",
      "execution_count": null,
      "metadata": {
        "is_executing": true,
        "id": "8tSS_hKhWIhw"
      },
      "outputs": [],
      "source": [
        "import math\n",
        "\n",
        "# Calculate the Root Mean Squared Error\n",
        "print(\"RMSE: %.2f\"\n",
        "      % math.sqrt(np.mean((regr.predict(X_test) - y_test) ** 2)))"
      ]
    },
    {
      "cell_type": "code",
      "execution_count": null,
      "metadata": {
        "is_executing": true,
        "id": "EIbgk_DZWIhw"
      },
      "outputs": [],
      "source": []
    },
    {
      "cell_type": "code",
      "execution_count": null,
      "metadata": {
        "is_executing": true,
        "id": "_tUJc5trWIhw"
      },
      "outputs": [],
      "source": []
    }
  ],
  "metadata": {
    "colab": {
      "private_outputs": true,
      "provenance": []
    },
    "kernelspec": {
      "name": "python3",
      "language": "python",
      "display_name": "Python 3 (ipykernel)"
    },
    "language_info": {
      "codemirror_mode": {
        "name": "ipython",
        "version": 3
      },
      "file_extension": ".py",
      "mimetype": "text/x-python",
      "name": "python",
      "nbconvert_exporter": "python",
      "pygments_lexer": "ipython3",
      "version": "3.9.13"
    }
  },
  "nbformat": 4,
  "nbformat_minor": 0
}